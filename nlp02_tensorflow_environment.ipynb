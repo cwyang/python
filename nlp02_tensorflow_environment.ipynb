{
 "cells": [
  {
   "cell_type": "markdown",
   "metadata": {},
   "source": [
    "# Tensorflow environment setup\n",
    "20 June 2017, 양철웅\n",
    "\n",
    "- python이 이미 설치되어 있음을 가정한다.\n",
    "- lima 기계에서 홈 디렉토리에 설치한다고 가정한다.\n",
    "- GPU는 없다고 가정한다. (lima에 없음)\n",
    "- 이 내용은 Hand-on Machine Learning with Scikit-Learn & TensorFlow 책에서 설치 부분만을 요약한 것이다.\n",
    "\n",
    "## 기본 설정\n",
    "```\n",
    "$ export ML_PATH=\"$HOME/ml\"\n",
    "$ mkdir -p $ML_PATH\n",
    "```\n",
    "ML_PATH 설정은 .bashrc에 넣도록 한다.\n",
    "\n",
    "## python 패키지 설치\n",
    "1. pip 버젼 확인\n",
    "```\n",
    "$ pip --version\n",
    "pip 9.0.1 from /home/cwyang/.local/lib/python2.7/site-packages (python 2.7)\n",
    "```\n",
    "\n",
    "2. virtualenv 설치. 버젼 및 패키지 문제를 피하기 위하여 python 환경을 로컬하게 구축하여 이용한다.`\n",
    "```\n",
    "$ pip install --user --upgrade virtualenv\n",
    "```\n",
    "\n",
    "3. virtualenv 초기화\n",
    "```\n",
    "$ cd $ML_PATH\n",
    "$ virtualenv env\n",
    "```\n",
    "\n",
    "4. virtualenv 활성화. 매번 virtualenv를 사용하기 위해서는 활성화 과정을 거쳐야 한다. 앞으로 모든 사항은 virtualenv 환경을 가정한다.\n",
    "```\n",
    "$ cd $ML_PATH\n",
    "$ source env/bin/activate\n",
    "(env) $\n",
    "```\n",
    "\n",
    "5. 잡다한 패키지 설치 및 설치 확인\n",
    "```\n",
    "(env) $ pip install --upgrade jupyter matplotlib numpy pandas scipy scikit-learn\n",
    "...\n",
    "(env) $ python -c \"import jupyter, matplotlib, numpy, pandas, scipy, sklearn\"\n",
    "```\n",
    "\n",
    "6. tensorflow 설치\n",
    "```\n",
    "(env) $ pip install --upgrade tensorflow   # gpu가 있다면 tensorflow-gpu를 설치한다.\n",
    "...\n",
    "(env) $ python -c \"import tensorflow; print(tensorflow.__version__)\"\n",
    "1.2.0\n",
    "```\n",
    "\n",
    "7. jupyter notebook 실행\n",
    "```\n",
    "(env) $ jupyter notebook --ip 192.168.100.207 --port 9999\n",
    "<주피터 접속 URL이 출력됨>\n",
    "```\n",
    "ip 옵션은 디폴트로 localhost이다. 즉 local machine으로만 접속이 가능하다. remote 접속을 허용할 시 보안이슈가 있음을 명심한다.\n",
    "\n",
    "8. 이후 브라우저로 <주피터 접속 URL>에 접속하여 사용한다.\n"
   ]
  },
  {
   "cell_type": "markdown",
   "metadata": {
    "collapsed": true
   },
   "source": [
    "## Tensorflow 테스트\n",
    "\n",
    "$f(x,y) = x^2y + y + 2$ 일때 $f(3,4)$ 값을 계산해 보도록 하자.\n"
   ]
  },
  {
   "cell_type": "code",
   "execution_count": 6,
   "metadata": {},
   "outputs": [
    {
     "name": "stdout",
     "output_type": "stream",
     "text": [
      "42\n"
     ]
    }
   ],
   "source": [
    "import tensorflow as tf\n",
    "tf.reset_default_graph()\n",
    "x = tf.Variable(3, name=\"x\")\n",
    "y = tf.Variable(4, name=\"y\")\n",
    "f = x*x*y + y + 2\n",
    "\n",
    "with tf.Session() as sess:\n",
    "    x.initializer.run()\n",
    "    y.initializer.run()\n",
    "    result = f.eval()\n",
    "    \n",
    "print result"
   ]
  },
  {
   "cell_type": "markdown",
   "metadata": {},
   "source": [
    "Linear Regression을 해 보도록 하자."
   ]
  },
  {
   "cell_type": "code",
   "execution_count": 11,
   "metadata": {},
   "outputs": [
    {
     "name": "stdout",
     "output_type": "stream",
     "text": [
      "[[ -3.74651413e+01]\n",
      " [  4.35734153e-01]\n",
      " [  9.33829229e-03]\n",
      " [ -1.06622010e-01]\n",
      " [  6.44106984e-01]\n",
      " [ -4.25131839e-06]\n",
      " [ -3.77322501e-03]\n",
      " [ -4.26648885e-01]\n",
      " [ -4.40514028e-01]]\n"
     ]
    }
   ],
   "source": [
    "import numpy as np\n",
    "from sklearn.datasets import fetch_california_housing\n",
    "\n",
    "housing = fetch_california_housing()\n",
    "m,n = housing.data.shape\n",
    "housing_data_plus_bias = np.c_[np.ones((m,1)), housing.data]\n",
    "\n",
    "X = tf.constant(housing_data_plus_bias, dtype=tf.float32, name=\"X\")\n",
    "y = tf.constant(housing.target.reshape(-1, 1), dtype=tf.float32, name=\"y\")\n",
    "XT = tf.transpose(X)\n",
    "theta = tf.matmul(tf.matmul(tf.matrix_inverse(tf.matmul(XT, X)), XT), y)\n",
    "\n",
    "with tf.Session() as sess:\n",
    "    theta_value = theta.eval()\n",
    "    print theta_value"
   ]
  }
 ],
 "metadata": {
  "kernelspec": {
   "display_name": "Python 2",
   "language": "python",
   "name": "python2"
  },
  "language_info": {
   "codemirror_mode": {
    "name": "ipython",
    "version": 2
   },
   "file_extension": ".py",
   "mimetype": "text/x-python",
   "name": "python",
   "nbconvert_exporter": "python",
   "pygments_lexer": "ipython2",
   "version": "2.7.6"
  }
 },
 "nbformat": 4,
 "nbformat_minor": 2
}
